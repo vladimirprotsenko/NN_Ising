{
 "cells": [
  {
   "cell_type": "code",
   "execution_count": 22,
   "metadata": {
    "id": "D4zHVvucBndg"
   },
   "outputs": [],
   "source": [
    "import numpy as np\n",
    "from sympy.utilities.iterables import multiset_permutations"
   ]
  },
  {
   "cell_type": "code",
   "execution_count": 23,
   "metadata": {
    "id": "psibs73-StsS"
   },
   "outputs": [],
   "source": [
    "Nv = 8 # number of visible units (or number of spins in a system)\n",
    "alpha = 2 # number of filters (number of hidden units Nh, Nh=alpha*Nv)\n",
    "cutoff = 0.005\n",
    "learning_rate = 0.01\n",
    "N_steps = 100"
   ]
  },
  {
   "cell_type": "code",
   "execution_count": 24,
   "metadata": {
    "id": "xgr-msZOZikl"
   },
   "outputs": [],
   "source": [
    "#initialization of a reduced matrix of weights from normal distribution\n",
    "W_reduced = np.random.normal(0, 0.01, (Nv, alpha))"
   ]
  },
  {
   "cell_type": "code",
   "execution_count": 25,
   "metadata": {
    "id": "3Dh-MayuwITz"
   },
   "outputs": [],
   "source": [
    "def psi_coefficients(W_reduced, Sz):\n",
    "    # Nv - number of visible units (system with Nv spins)\n",
    "    # alpha=Nh/Nv, where Nh number of hidden units\n",
    "    # Sz - spin configuration (Nv)\n",
    "    # W_reduced - reduced matrix of weights (Nv, alpha) shape   \n",
    "    Nv, alpha = W_reduced.shape \n",
    "\n",
    "    # use np.roll to realize a periodic boundary condition\n",
    "    W_full = np.zeros((Nv, Nv * alpha)) # (Nv, Nh)\n",
    "    for inx_alpha in range(alpha):\n",
    "        vec = W_reduced[:, inx_alpha]\n",
    "        for inx_col in range(Nv): \n",
    "            W_full[:, inx_col + Nv * inx_alpha] = np.roll(vec, inx_col)\n",
    "    # calculate Theta_i = b_i + sum_{i=1}^{Nv}(W_full_{ij}Sz_{i})\n",
    "    # note that b_i=0 due to the spin flip symmetry \n",
    "    theta = Sz.dot(W_full) \n",
    "    # return amplitude psi = prod_{j=1}^{Nh}(2*cosh(Theta_j))\n",
    "    # the factor e^{sum_{i=1}^{Nv}(a_i*Sz_{i})}=1 due to spin flip symmetry (a_i=0)     \n",
    "    return theta, np.prod(2.0 * np.cosh(theta))"
   ]
  },
  {
   "cell_type": "code",
   "execution_count": 26,
   "metadata": {
    "colab": {
     "base_uri": "https://localhost:8080/"
    },
    "id": "qgLZ_vcaNAPW",
    "outputId": "aa4e3532-075c-4813-b288-56ae12514576"
   },
   "outputs": [
    {
     "name": "stdout",
     "output_type": "stream",
     "text": [
      "[ 1.  1.  1.  1. -1. -1. -1. -1.]\n",
      "number of states =  70\n",
      "(70, 8)\n"
     ]
    }
   ],
   "source": [
    "#generation of Fock states for a given number of spins Nv\n",
    "base_state = np.array([1.] * (Nv // 2) + [-1.] * (Nv // 2))\n",
    "print(base_state)\n",
    "num_states = 0\n",
    "states = []\n",
    "for state in multiset_permutations(base_state):\n",
    "    num_states += 1\n",
    "    states.append(state)\n",
    "states = np.array(states)\n",
    "print('number of states = ',num_states)\n",
    "print(states.shape)"
   ]
  },
  {
   "cell_type": "code",
   "execution_count": 27,
   "metadata": {
    "id": "cYqtSiPYb7hl"
   },
   "outputs": [],
   "source": [
    "energy_vs_epoch = []\n",
    "for epoch in range(N_steps):\n",
    "    # create numpy array of psi coefficients corresponding to all states (psi_array).\n",
    "    psi_array = []\n",
    "    for state_inx in range(num_states):\n",
    "        _, item_state = psi_coefficients(W_reduced, states[state_inx,:])\n",
    "        psi_array.append(item_state)\n",
    "    psi_array = np.array(psi_array)\n",
    "\n",
    "    # p(S) distribution\n",
    "    p_s = np.power(psi_array, 2)\n",
    "    Z_norm = np.sum(p_s) \n",
    "    p_s = p_s / Z_norm\n",
    "\n",
    "    #calculate Eloc=sum_{x'}(H_{xx'}psi(x')/psi(x))\n",
    "    #for now, consider only the simple test (toy) case H=SzSz \n",
    "    E_loc_s_array = []\n",
    "    for state_inx in range(num_states):\n",
    "        state = states[state_inx,:]\n",
    "        E_loc_s_array.append(state.dot(np.roll(state, 1)))\n",
    "    E_loc_s_array = np.array(E_loc_s_array)\n",
    "\n",
    "    #find the average energy\n",
    "    Energy = E_loc_s_array.dot(p_s)\n",
    "    energy_vs_epoch.append(Energy)\n",
    "\n",
    "    #calculate the gradient of the energy with respect to variational parameters dHdw\n",
    "    dHdw = np.zeros((Nv, alpha))\n",
    "    for state_inx in range(num_states):\n",
    "        O_wij_reduced = np.zeros((Nv, alpha))\n",
    "        theta, _ = psi_coefficients(W_reduced, states[state_inx,:])\n",
    "        O_wij = np.outer(states[state_inx,:], theta)\n",
    "\n",
    "        for alpha_inx in range(alpha):\n",
    "            for col_inx in range(Nv):\n",
    "                act_col = col_inx + (Nv * alpha_inx) \n",
    "                O_wij[:, act_col] = np.roll(O_wij[:, act_col], -col_inx)\n",
    "\n",
    "        for alpha_inx in range(alpha):\n",
    "            left_inx = alpha_inx * Nv\n",
    "            right_inx = left_inx + Nv\n",
    "            #variational derivatives\n",
    "            O_wij_reduced[:, alpha_inx] = np.mean(O_wij[:, left_inx:right_inx], axis = 1) \n",
    "        # dHdw=2*(<<E_loc*O_w>>-<<E_loc>>*<<O_w>>)\n",
    "        dHdw += O_wij_reduced * E_loc_s_array[state_inx] * p_s[state_inx]\n",
    "        dHdw -= O_wij_reduced * Energy * p_s[state_inx] \n",
    "    dHdw *= 2.  \n",
    "\n",
    "    #update weights using gradient descent \n",
    "    delta = learning_rate * dHdw \n",
    "    W_reduced -= delta"
   ]
  },
  {
   "cell_type": "code",
   "execution_count": 28,
   "metadata": {
    "colab": {
     "base_uri": "https://localhost:8080/",
     "height": 279
    },
    "id": "2Y4_-dZgjJeE",
    "outputId": "898846ca-991f-47b3-827e-6b1c6dcacb0e"
   },
   "outputs": [
    {
     "data": {
      "image/png": "[encoded data removed]",
      "text/plain": [
       "<Figure size 432x288 with 1 Axes>"
      ]
     },
     "metadata": {
      "needs_background": "light"
     },
     "output_type": "display_data"
    }
   ],
   "source": [
    "from matplotlib import pyplot as plt\n",
    "plt.plot(energy_vs_epoch)\n",
    "plt.xlabel(\"Epoch\")\n",
    "plt.ylabel(\"Energy\")\n",
    "plt.show()"
   ]
  },
  {
   "cell_type": "code",
   "execution_count": null,
   "metadata": {
    "id": "bf5INXUPk_hv"
   },
   "outputs": [],
   "source": []
  }
 ],
 "metadata": {
  "colab": {
   "collapsed_sections": [],
   "name": "RMB_spin.ipynb",
   "provenance": []
  },
  "kernelspec": {
   "display_name": "Python 3",
   "language": "python",
   "name": "python3"
  },
  "language_info": {
   "codemirror_mode": {
    "name": "ipython",
    "version": 3
   },
   "file_extension": ".py",
   "mimetype": "text/x-python",
   "name": "python",
   "nbconvert_exporter": "python",
   "pygments_lexer": "ipython3",
   "version": "3.8.8"
  }
 },
 "nbformat": 4,
 "nbformat_minor": 1
}
